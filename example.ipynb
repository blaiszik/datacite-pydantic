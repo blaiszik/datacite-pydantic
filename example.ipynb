{
 "cells": [
  {
   "cell_type": "code",
   "execution_count": 24,
   "metadata": {},
   "outputs": [],
   "source": [
    "from datacite import Datacite"
   ]
  },
  {
   "cell_type": "code",
   "execution_count": 25,
   "metadata": {},
   "outputs": [],
   "source": [
    "metadata={\n",
    "    \"identifiers\": [{\n",
    "        \"identifier\": \"https://doi.org/10.5438/0014\",\n",
    "        \"identifierType\": \"DOI\"\n",
    "    }],\n",
    "    \"creators\": [{\n",
    "        \"name\": \"DataCite Metadata Working Group\"\n",
    "    }],\n",
    "    \"titles\": [{\n",
    "        \"title\": \"DataCite Metadata Schema Documentation for the Publication and Citation of Research Data v4.1\"\n",
    "    }],\n",
    "    \"publisher\": \"DataCite\",\n",
    "    \"container\": {},\n",
    "    \"publicationYear\": 2017,\n",
    "    \"subjects\": [],\n",
    "    \"contributors\": [{\n",
    "        \"name\": \"Smaele, Madeleine de\",\n",
    "        \"nameType\": \"Personal\",\n",
    "        \"givenName\": \"Madeleine de\",\n",
    "        \"familyName\": \"Smaele\",\n",
    "        \"affiliation\": [\"TU Delft\"],\n",
    "        \"contributorType\": \"ProjectLeader\",\n",
    "        \"nameIdentifiers\": [{\n",
    "            \"nameIdentifier\": \"https://orcid.org/0000-0003-4149-8311\",\n",
    "            \"nameIdentifierScheme\": \"ORCID\"\n",
    "        }]\n",
    "    }, {\n",
    "        \"name\": \"Starr, Joan\",\n",
    "        \"nameType\": \"Personal\",\n",
    "        \"givenName\": \"Joan\",\n",
    "        \"familyName\": \"Starr\",\n",
    "        \"affiliation\": [\"California Digital Library\"],\n",
    "        \"contributorType\": \"ProjectLeader\",\n",
    "        \"nameIdentifiers\": [{\n",
    "            \"nameIdentifier\": \"https://orcid.org/0000-0002-7285-027X\",\n",
    "            \"nameIdentifierScheme\": \"ORCID\"\n",
    "        }]\n",
    "    }, {\n",
    "        \"name\": \"Ashton, Jan\",\n",
    "        \"nameType\": \"Personal\",\n",
    "        \"givenName\": \"Jan\",\n",
    "        \"familyName\": \"Ashton\",\n",
    "        \"affiliation\": [\"British Library\"],\n",
    "        \"contributorType\": \"Editor\"\n",
    "    }, {\n",
    "        \"name\": \"Barton, Amy\",\n",
    "        \"nameType\": \"Personal\",\n",
    "        \"givenName\": \"Amy\",\n",
    "        \"familyName\": \"Barton\",\n",
    "        \"affiliation\": [\"Purdue University Library\"],\n",
    "        \"contributorType\": \"Editor\"\n",
    "    }, {\n",
    "        \"name\": \"Birt, Noris\",\n",
    "        \"nameType\": \"Personal\",\n",
    "        \"givenName\": \"Noris\",\n",
    "        \"familyName\": \"Birt\",\n",
    "        \"affiliation\": [\"NRC/CISTI\"],\n",
    "        \"contributorType\": \"Editor\"\n",
    "    }, {\n",
    "        \"name\": \"Dietiker, Stefanie\",\n",
    "        \"nameType\": \"Personal\",\n",
    "        \"givenName\": \"Stefanie\",\n",
    "        \"familyName\": \"Dietiker\",\n",
    "        \"affiliation\": [\"ETH Zürich\"],\n",
    "        \"contributorType\": \"Editor\"\n",
    "    }, {\n",
    "        \"name\": \"Elliot, Jannean\",\n",
    "        \"nameType\": \"Personal\",\n",
    "        \"givenName\": \"Jannean\",\n",
    "        \"familyName\": \"Elliot\",\n",
    "        \"affiliation\": [\"DOE/OSTI\"],\n",
    "        \"contributorType\": \"Editor\"\n",
    "    }, {\n",
    "        \"name\": \"Fenner, Martin\",\n",
    "        \"nameType\": \"Personal\",\n",
    "        \"givenName\": \"Martin\",\n",
    "        \"familyName\": \"Fenner\",\n",
    "        \"affiliation\": [\"DataCite\"],\n",
    "        \"contributorType\": \"Editor\",\n",
    "        \"nameIdentifiers\": [{\n",
    "            \"nameIdentifier\": \"https://orcid.org/0000-0001-6528-2027\",\n",
    "            \"nameIdentifierScheme\": \"ORCID\"\n",
    "        }]\n",
    "    }, {\n",
    "        \"name\": \"Hugo, Wim\",\n",
    "        \"nameType\": \"Personal\",\n",
    "        \"givenName\": \"Wim\",\n",
    "        \"familyName\": \"Hugo\",\n",
    "        \"affiliation\": [\"South African Environmental Observation Network\"],\n",
    "        \"contributorType\": \"Editor\"\n",
    "    }, {\n",
    "        \"name\": \"Jakobsson, Stefan\",\n",
    "        \"nameType\": \"Personal\",\n",
    "        \"givenName\": \"Stefan\",\n",
    "        \"familyName\": \"Jakobsson\",\n",
    "        \"affiliation\": [\"SND\"],\n",
    "        \"contributorType\": \"Editor\"\n",
    "    }, {\n",
    "        \"name\": \"Bernal Martínez, Isabel\",\n",
    "        \"nameType\": \"Personal\",\n",
    "        \"givenName\": \"Isabel\",\n",
    "        \"familyName\": \"Bernal Martínez\",\n",
    "        \"affiliation\": [\"Oficina Técnica de DIGITAL-CSIC\"],\n",
    "        \"contributorType\": \"Editor\"\n",
    "    }, {\n",
    "        \"name\": \"Rücknagel, Jessica\",\n",
    "        \"nameType\": \"Personal\",\n",
    "        \"givenName\": \"Jessica\",\n",
    "        \"familyName\": \"Rücknagel\",\n",
    "        \"affiliation\": [\"German National Library of Science and Technology (TIB)\"],\n",
    "        \"contributorType\": \"Editor\"\n",
    "    }, {\n",
    "        \"name\": \"Yahia, Mohamed\",\n",
    "        \"nameType\": \"Personal\",\n",
    "        \"givenName\": \"Mohamed\",\n",
    "        \"familyName\": \"Yahia\",\n",
    "        \"affiliation\": [\"Inist-CNRS\"],\n",
    "        \"contributorType\": \"Editor\"\n",
    "    }, {\n",
    "        \"name\": \"Ziedorn, Frauke\",\n",
    "        \"nameType\": \"Personal\",\n",
    "        \"givenName\": \"Frauke\",\n",
    "        \"familyName\": \"Ziedorn\",\n",
    "        \"affiliation\": [\"German National Library of Science and Technology (TIB)\"],\n",
    "        \"contributorType\": \"Editor\",\n",
    "        \"nameIdentifiers\": [{\n",
    "            \"nameIdentifier\": \"https://orcid.org/0000-0002-1143-781X\",\n",
    "            \"nameIdentifierScheme\": \"ORCID\"\n",
    "        }]\n",
    "    }, {\n",
    "        \"name\": \"Zolly, Lisa\",\n",
    "        \"nameType\": \"Personal\",\n",
    "        \"givenName\": \"Lisa\",\n",
    "        \"familyName\": \"Zolly\",\n",
    "        \"affiliation\": [\"United States Geological Survey (USGS)\"],\n",
    "        \"contributorType\": \"Editor\"\n",
    "    }],\n",
    "    \"dates\": [{\n",
    "        \"date\": \"2017\",\n",
    "        \"dateType\": \"Issued\"\n",
    "    }],\n",
    "    \"language\": \"eng\",\n",
    "    \"types\": {\n",
    "        \"ris\": \"RPRT\",\n",
    "        \"bibtex\": \"article\",\n",
    "        \"citeproc\": \"article-journal\",\n",
    "        \"schemaOrg\": \"ScholarlyArticle\",\n",
    "        \"resourceType\": \"Documentation\",\n",
    "        \"resourceTypeGeneral\": \"Text\"\n",
    "    },\n",
    "    \"relatedIdentifiers\": [{\n",
    "        \"relationType\": \"Documents\",\n",
    "        \"relatedIdentifier\": \"10.5438/0015\",\n",
    "        \"relatedIdentifierType\": \"DOI\"\n",
    "    }, {\n",
    "        \"relationType\": \"IsNewVersionOf\",\n",
    "        \"relatedIdentifier\": \"10.5438/0012\",\n",
    "        \"relatedIdentifierType\": \"DOI\"\n",
    "    }],\n",
    "    \"sizes\": [\"72 pages\"],\n",
    "    \"formats\": [\"application/pdf\"],\n",
    "    \"version\": None,\n",
    "    \"rightsList\": [],\n",
    "    \"descriptions\": [{\n",
    "        \"description\": \"1 Introduction1.1 The DataCite Consortium1.2 DataCite Community Participation1.3 The Metadata Schema1.4 Version 4.1 Update2 DataCite Metadata Properties2.1 Overview2.2 Citation2.3 DataCite Properties3 XML Example4 XML Schema5 Other DataCite ServicesAppendicesAppendix 1: Controlled List DefinitionsAppendix 2: Earlier Version Update NotesAppendix 3: Standard values for unknown informationAppendix 4: Version 4.1 Changes in support of software citationAppendix 5: FORCE11 Software Citation Principles Mapping\",\n",
    "        \"descriptionType\": \"TableOfContents\"\n",
    "    }],\n",
    "    \"geoLocations\": [],\n",
    "    \"fundingReferences\": []\n",
    "}"
   ]
  },
  {
   "cell_type": "code",
   "execution_count": 26,
   "metadata": {},
   "outputs": [],
   "source": [
    "dc = Datacite(**metadata)"
   ]
  },
  {
   "cell_type": "code",
   "execution_count": 27,
   "metadata": {},
   "outputs": [
    {
     "name": "stdout",
     "output_type": "stream",
     "text": [
      "Titles: ['DataCite Metadata Schema Documentation for the Publication and Citation of Research Data v4.1']\n",
      "Creators: ['DataCite Metadata Working Group']\n",
      "Contributors ['Smaele, Madeleine de', 'Starr, Joan', 'Ashton, Jan', 'Barton, Amy', 'Birt, Noris', 'Dietiker, Stefanie', 'Elliot, Jannean', 'Fenner, Martin', 'Hugo, Wim', 'Jakobsson, Stefan', 'Bernal Martínez, Isabel', 'Rücknagel, Jessica', 'Yahia, Mohamed', 'Ziedorn, Frauke', 'Zolly, Lisa']\n",
      "Publisher: DataCite\n",
      "Publication year: 2017\n",
      "\n",
      "== Datacite version: 4.3\n"
     ]
    }
   ],
   "source": [
    "dc.describe()"
   ]
  },
  {
   "cell_type": "code",
   "execution_count": 28,
   "metadata": {},
   "outputs": [],
   "source": [
    "dc.add_creator(name=\"James S. Talbot\")"
   ]
  },
  {
   "cell_type": "code",
   "execution_count": 29,
   "metadata": {},
   "outputs": [
    {
     "name": "stdout",
     "output_type": "stream",
     "text": [
      "{\n",
      "  \"types\": {\n",
      "    \"resourceType\": \"Documentation\",\n",
      "    \"resourceTypeGeneral\": \"Text\"\n",
      "  },\n",
      "  \"identifiers\": [\n",
      "    {\n",
      "      \"identifier\": \"https://doi.org/10.5438/0014\",\n",
      "      \"identifierType\": \"DOI\"\n",
      "    }\n",
      "  ],\n",
      "  \"creators\": [\n",
      "    {\n",
      "      \"name\": \"DataCite Metadata Working Group\"\n",
      "    },\n",
      "    {\n",
      "      \"name\": \"James S. Talbot\"\n",
      "    }\n",
      "  ],\n",
      "  \"titles\": [\n",
      "    {\n",
      "      \"title\": \"DataCite Metadata Schema Documentation for the Publication and Citation of Research Data v4.1\"\n",
      "    }\n",
      "  ],\n",
      "  \"publisher\": \"DataCite\",\n",
      "  \"publicationYear\": \"2017\",\n",
      "  \"subjects\": [],\n",
      "  \"contributors\": [\n",
      "    {\n",
      "      \"contributorType\": \"ProjectLeader\",\n",
      "      \"name\": \"Smaele, Madeleine de\",\n",
      "      \"nameType\": \"Personal\",\n",
      "      \"nameIdentifiers\": [\n",
      "        {\n",
      "          \"nameIdentifier\": \"https://orcid.org/0000-0003-4149-8311\",\n",
      "          \"nameIdentifierScheme\": \"ORCID\"\n",
      "        }\n",
      "      ],\n",
      "      \"familyName\": \"Smaele\",\n",
      "      \"givenName\": \"Madeleine de\"\n",
      "    },\n",
      "    {\n",
      "      \"contributorType\": \"ProjectLeader\",\n",
      "      \"name\": \"Starr, Joan\",\n",
      "      \"nameType\": \"Personal\",\n",
      "      \"nameIdentifiers\": [\n",
      "        {\n",
      "          \"nameIdentifier\": \"https://orcid.org/0000-0002-7285-027X\",\n",
      "          \"nameIdentifierScheme\": \"ORCID\"\n",
      "        }\n",
      "      ],\n",
      "      \"familyName\": \"Starr\",\n",
      "      \"givenName\": \"Joan\"\n",
      "    },\n",
      "    {\n",
      "      \"contributorType\": \"Editor\",\n",
      "      \"name\": \"Ashton, Jan\",\n",
      "      \"nameType\": \"Personal\",\n",
      "      \"familyName\": \"Ashton\",\n",
      "      \"givenName\": \"Jan\"\n",
      "    },\n",
      "    {\n",
      "      \"contributorType\": \"Editor\",\n",
      "      \"name\": \"Barton, Amy\",\n",
      "      \"nameType\": \"Personal\",\n",
      "      \"familyName\": \"Barton\",\n",
      "      \"givenName\": \"Amy\"\n",
      "    },\n",
      "    {\n",
      "      \"contributorType\": \"Editor\",\n",
      "      \"name\": \"Birt, Noris\",\n",
      "      \"nameType\": \"Personal\",\n",
      "      \"familyName\": \"Birt\",\n",
      "      \"givenName\": \"Noris\"\n",
      "    },\n",
      "    {\n",
      "      \"contributorType\": \"Editor\",\n",
      "      \"name\": \"Dietiker, Stefanie\",\n",
      "      \"nameType\": \"Personal\",\n",
      "      \"familyName\": \"Dietiker\",\n",
      "      \"givenName\": \"Stefanie\"\n",
      "    },\n",
      "    {\n",
      "      \"contributorType\": \"Editor\",\n",
      "      \"name\": \"Elliot, Jannean\",\n",
      "      \"nameType\": \"Personal\",\n",
      "      \"familyName\": \"Elliot\",\n",
      "      \"givenName\": \"Jannean\"\n",
      "    },\n",
      "    {\n",
      "      \"contributorType\": \"Editor\",\n",
      "      \"name\": \"Fenner, Martin\",\n",
      "      \"nameType\": \"Personal\",\n",
      "      \"nameIdentifiers\": [\n",
      "        {\n",
      "          \"nameIdentifier\": \"https://orcid.org/0000-0001-6528-2027\",\n",
      "          \"nameIdentifierScheme\": \"ORCID\"\n",
      "        }\n",
      "      ],\n",
      "      \"familyName\": \"Fenner\",\n",
      "      \"givenName\": \"Martin\"\n",
      "    },\n",
      "    {\n",
      "      \"contributorType\": \"Editor\",\n",
      "      \"name\": \"Hugo, Wim\",\n",
      "      \"nameType\": \"Personal\",\n",
      "      \"familyName\": \"Hugo\",\n",
      "      \"givenName\": \"Wim\"\n",
      "    },\n",
      "    {\n",
      "      \"contributorType\": \"Editor\",\n",
      "      \"name\": \"Jakobsson, Stefan\",\n",
      "      \"nameType\": \"Personal\",\n",
      "      \"familyName\": \"Jakobsson\",\n",
      "      \"givenName\": \"Stefan\"\n",
      "    },\n",
      "    {\n",
      "      \"contributorType\": \"Editor\",\n",
      "      \"name\": \"Bernal Mart\\u00ednez, Isabel\",\n",
      "      \"nameType\": \"Personal\",\n",
      "      \"familyName\": \"Bernal Mart\\u00ednez\",\n",
      "      \"givenName\": \"Isabel\"\n",
      "    },\n",
      "    {\n",
      "      \"contributorType\": \"Editor\",\n",
      "      \"name\": \"R\\u00fccknagel, Jessica\",\n",
      "      \"nameType\": \"Personal\",\n",
      "      \"familyName\": \"R\\u00fccknagel\",\n",
      "      \"givenName\": \"Jessica\"\n",
      "    },\n",
      "    {\n",
      "      \"contributorType\": \"Editor\",\n",
      "      \"name\": \"Yahia, Mohamed\",\n",
      "      \"nameType\": \"Personal\",\n",
      "      \"familyName\": \"Yahia\",\n",
      "      \"givenName\": \"Mohamed\"\n",
      "    },\n",
      "    {\n",
      "      \"contributorType\": \"Editor\",\n",
      "      \"name\": \"Ziedorn, Frauke\",\n",
      "      \"nameType\": \"Personal\",\n",
      "      \"nameIdentifiers\": [\n",
      "        {\n",
      "          \"nameIdentifier\": \"https://orcid.org/0000-0002-1143-781X\",\n",
      "          \"nameIdentifierScheme\": \"ORCID\"\n",
      "        }\n",
      "      ],\n",
      "      \"familyName\": \"Ziedorn\",\n",
      "      \"givenName\": \"Frauke\"\n",
      "    },\n",
      "    {\n",
      "      \"contributorType\": \"Editor\",\n",
      "      \"name\": \"Zolly, Lisa\",\n",
      "      \"nameType\": \"Personal\",\n",
      "      \"familyName\": \"Zolly\",\n",
      "      \"givenName\": \"Lisa\"\n",
      "    }\n",
      "  ],\n",
      "  \"language\": \"eng\",\n",
      "  \"relatedIdentifiers\": [\n",
      "    {},\n",
      "    {}\n",
      "  ],\n",
      "  \"sizes\": [\n",
      "    \"72 pages\"\n",
      "  ],\n",
      "  \"formats\": [\n",
      "    \"application/pdf\"\n",
      "  ],\n",
      "  \"version\": null,\n",
      "  \"rightsList\": {},\n",
      "  \"descriptions\": {\n",
      "    \"description\": \"descriptionType\"\n",
      "  },\n",
      "  \"fundingReferences\": {},\n",
      "  \"geoLocations\": {}\n",
      "}\n"
     ]
    }
   ],
   "source": [
    "print(dc.to_json())"
   ]
  },
  {
   "cell_type": "code",
   "execution_count": 30,
   "metadata": {},
   "outputs": [],
   "source": [
    "a = getattr(dc, 'titles')"
   ]
  },
  {
   "cell_type": "code",
   "execution_count": 8,
   "metadata": {},
   "outputs": [
    {
     "ename": "NameError",
     "evalue": "name 'DataciteTitle' is not defined",
     "output_type": "error",
     "traceback": [
      "\u001b[0;31m---------------------------------------------------------------------------\u001b[0m",
      "\u001b[0;31mNameError\u001b[0m                                 Traceback (most recent call last)",
      "\u001b[0;32m<ipython-input-8-e40f5ca5d3aa>\u001b[0m in \u001b[0;36m<module>\u001b[0;34m\u001b[0m\n\u001b[0;32m----> 1\u001b[0;31m \u001b[0ma\u001b[0m\u001b[0;34m.\u001b[0m\u001b[0mappend\u001b[0m\u001b[0;34m(\u001b[0m\u001b[0mDataciteTitle\u001b[0m\u001b[0;34m(\u001b[0m\u001b[0mtitle\u001b[0m\u001b[0;34m=\u001b[0m\u001b[0;34m\"qrs\"\u001b[0m\u001b[0;34m)\u001b[0m\u001b[0;34m)\u001b[0m\u001b[0;34m\u001b[0m\u001b[0;34m\u001b[0m\u001b[0m\n\u001b[0m",
      "\u001b[0;31mNameError\u001b[0m: name 'DataciteTitle' is not defined"
     ]
    }
   ],
   "source": [
    "a.append(DataciteTitle(title=\"qrs\"))"
   ]
  },
  {
   "cell_type": "code",
   "execution_count": 9,
   "metadata": {},
   "outputs": [
    {
     "data": {
      "text/plain": [
       "[DataciteTitle(title='DataCite Metadata Schema Documentation for the Publication and Citation of Research Data v4.1', titleType=None, lang=None)]"
      ]
     },
     "execution_count": 9,
     "metadata": {},
     "output_type": "execute_result"
    }
   ],
   "source": [
    "a"
   ]
  },
  {
   "cell_type": "code",
   "execution_count": 31,
   "metadata": {},
   "outputs": [
    {
     "data": {
      "text/plain": [
       "[DataciteTitle(title='DataCite Metadata Schema Documentation for the Publication and Citation of Research Data v4.1', titleType=None, lang=None),\n",
       " DataciteTitle(title='QRS')]"
      ]
     },
     "execution_count": 31,
     "metadata": {},
     "output_type": "execute_result"
    }
   ],
   "source": [
    "titles = getattr(dc, 'titles')\n",
    "titles.append(DataciteTitle(title=\"QRS\"))\n",
    "titles"
   ]
  },
  {
   "cell_type": "code",
   "execution_count": 32,
   "metadata": {},
   "outputs": [],
   "source": [
    "setattr(dc, 'titles', titles)"
   ]
  },
  {
   "cell_type": "code",
   "execution_count": 33,
   "metadata": {},
   "outputs": [
    {
     "data": {
      "text/plain": [
       "[DataciteTitle(title='DataCite Metadata Schema Documentation for the Publication and Citation of Research Data v4.1', titleType=None, lang=None),\n",
       " DataciteTitle(title='QRS')]"
      ]
     },
     "execution_count": 33,
     "metadata": {},
     "output_type": "execute_result"
    }
   ],
   "source": [
    "dc.titles"
   ]
  },
  {
   "cell_type": "raw",
   "metadata": {},
   "source": [
    "dc"
   ]
  },
  {
   "cell_type": "code",
   "execution_count": 23,
   "metadata": {},
   "outputs": [
    {
     "name": "stdout",
     "output_type": "stream",
     "text": [
      "Titles: ['ABC', 'QRS']\n",
      "Creators: ['DataCite Metadata Working Group', 'James S. Talbot']\n",
      "Contributors ['Smaele, Madeleine de', 'Starr, Joan', 'Ashton, Jan', 'Barton, Amy', 'Birt, Noris', 'Dietiker, Stefanie', 'Elliot, Jannean', 'Fenner, Martin', 'Hugo, Wim', 'Jakobsson, Stefan', 'Bernal Martínez, Isabel', 'Rücknagel, Jessica', 'Yahia, Mohamed', 'Ziedorn, Frauke', 'Zolly, Lisa']\n",
      "Publisher: DataCite\n",
      "Publication year: 2017\n",
      "\n",
      "== Datacite version: 4.3\n"
     ]
    }
   ],
   "source": [
    "dc.describe()"
   ]
  },
  {
   "cell_type": "code",
   "execution_count": 14,
   "metadata": {},
   "outputs": [],
   "source": [
    "from pydantic import BaseModel\n",
    "from datacite import DataciteTitle\n",
    "\n",
    "class DataciteTitle(BaseModel):\n",
    "    title: str\n",
    "        \n",
    "class_map = {\n",
    "                \"titles\": DataciteTitle\n",
    "            }"
   ]
  },
  {
   "cell_type": "code",
   "execution_count": 15,
   "metadata": {},
   "outputs": [
    {
     "data": {
      "text/plain": [
       "DataciteTitle(title='abc')"
      ]
     },
     "execution_count": 15,
     "metadata": {},
     "output_type": "execute_result"
    }
   ],
   "source": [
    "class_map['titles'](title=\"abc\")"
   ]
  },
  {
   "cell_type": "code",
   "execution_count": 38,
   "metadata": {},
   "outputs": [],
   "source": [
    "setattr(dc,'titles', ([DataciteTitle(title=\"abc\")].append(DataciteTitle(title=\"qrs\"))))"
   ]
  },
  {
   "cell_type": "code",
   "execution_count": 16,
   "metadata": {},
   "outputs": [],
   "source": [
    "dc.titles"
   ]
  },
  {
   "cell_type": "code",
   "execution_count": 17,
   "metadata": {},
   "outputs": [],
   "source": [
    "a.append(\"a\")"
   ]
  },
  {
   "cell_type": "code",
   "execution_count": 40,
   "metadata": {},
   "outputs": [],
   "source": [
    "a = getattr(dc, 'titles')"
   ]
  },
  {
   "cell_type": "code",
   "execution_count": 34,
   "metadata": {},
   "outputs": [],
   "source": [
    "a.append(DataciteTitle(title=\"qrs\"))"
   ]
  },
  {
   "cell_type": "code",
   "execution_count": 41,
   "metadata": {},
   "outputs": [],
   "source": [
    "a"
   ]
  },
  {
   "cell_type": "code",
   "execution_count": null,
   "metadata": {},
   "outputs": [],
   "source": []
  }
 ],
 "metadata": {
  "kernelspec": {
   "display_name": "Python 3",
   "language": "python",
   "name": "python3"
  },
  "language_info": {
   "codemirror_mode": {
    "name": "ipython",
    "version": 3
   },
   "file_extension": ".py",
   "mimetype": "text/x-python",
   "name": "python",
   "nbconvert_exporter": "python",
   "pygments_lexer": "ipython3",
   "version": "3.7.3"
  }
 },
 "nbformat": 4,
 "nbformat_minor": 4
}

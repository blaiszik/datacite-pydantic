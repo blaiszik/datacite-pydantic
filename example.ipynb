{
 "cells": [
  {
   "cell_type": "code",
   "execution_count": 21,
   "metadata": {},
   "outputs": [],
   "source": [
    "from datacite import Datacite"
   ]
  },
  {
   "cell_type": "code",
   "execution_count": 30,
   "metadata": {},
   "outputs": [],
   "source": [
    "metadata = {\n",
    "    \"identifier\":{\"identifier\":\"10.1.1.1/TEST\", \"identifierType\":\"DOI\"},\n",
    "    \"creators\":[{\"creatorName\":\"Emily Beckman\", \"affiliations\":[\"University of Chicago\"]}],\n",
    "    \"titles\":[{\"title\":\"My Test Dataset\"}],\n",
    "    \"publisher\":\"MDF\",\n",
    "    \"publicationYear\":\"2019\",\n",
    "    \"subjects\":[{\"subject\":\"abc\"}],\n",
    "    \"resourceType\":{\"resourceTypeGeneral\":\"Dataset\"},\n",
    "    \"alternateIdentifiers\":[{\"alternateIdentifier\":\"x.y.z\", \"alternateIdentifierType\":\"XYZ\"}],\n",
    "    \"relatedIdentifiers\":[{\"relatedidentifier\":\"10.s.k.t\", \"relatedIdentifierTyoe\":\"ARK\"}]\n",
    "}\n",
    "\n",
    "dc = Datacite(**metadata)"
   ]
  },
  {
   "cell_type": "code",
   "execution_count": 31,
   "metadata": {},
   "outputs": [
    {
     "name": "stdout",
     "output_type": "stream",
     "text": [
      "Titles: ['My Test Dataset']\n",
      "Creators: ['Emily Beckman']\n",
      "Publisher: MDF\n",
      "Publication year: 2019\n",
      "\n",
      "== Datacite version: 4.3\n"
     ]
    }
   ],
   "source": [
    "dc.describe()"
   ]
  },
  {
   "cell_type": "code",
   "execution_count": 32,
   "metadata": {},
   "outputs": [],
   "source": [
    "dc.add_creator(creatorName=\"James S. Talbot\")"
   ]
  },
  {
   "cell_type": "code",
   "execution_count": 33,
   "metadata": {},
   "outputs": [
    {
     "name": "stdout",
     "output_type": "stream",
     "text": [
      "{\n",
      "  \"identifier\": {\n",
      "    \"identifier\": \"10.1.1.1/TEST\",\n",
      "    \"identifierType\": \"DOI\"\n",
      "  },\n",
      "  \"creators\": [\n",
      "    {\n",
      "      \"creatorName\": \"Emily Beckman\",\n",
      "      \"affiliations\": [\n",
      "        \"University of Chicago\"\n",
      "      ]\n",
      "    },\n",
      "    {\n",
      "      \"creatorName\": \"James S. Talbot\"\n",
      "    }\n",
      "  ],\n",
      "  \"titles\": [\n",
      "    {\n",
      "      \"title\": \"My Test Dataset\"\n",
      "    }\n",
      "  ],\n",
      "  \"publisher\": \"MDF\",\n",
      "  \"publicationYear\": \"2019\",\n",
      "  \"resourceType\": {\n",
      "    \"resourceTypeGeneral\": \"Dataset\"\n",
      "  },\n",
      "  \"subjects\": [\n",
      "    {\n",
      "      \"subject\": \"abc\"\n",
      "    }\n",
      "  ],\n",
      "  \"alternateIdentifiers\": [\n",
      "    {\n",
      "      \"alternateIdentifier\": \"x.y.z\",\n",
      "      \"alternateIdentifierType\": \"XYZ\"\n",
      "    }\n",
      "  ],\n",
      "  \"relatedIdentifiers\": [\n",
      "    {}\n",
      "  ]\n",
      "}\n"
     ]
    }
   ],
   "source": [
    "print(dc.to_json())"
   ]
  },
  {
   "cell_type": "code",
   "execution_count": null,
   "metadata": {},
   "outputs": [],
   "source": []
  },
  {
   "cell_type": "code",
   "execution_count": null,
   "metadata": {},
   "outputs": [],
   "source": []
  }
 ],
 "metadata": {
  "kernelspec": {
   "display_name": "Python 3",
   "language": "python",
   "name": "python3"
  },
  "language_info": {
   "codemirror_mode": {
    "name": "ipython",
    "version": 3
   },
   "file_extension": ".py",
   "mimetype": "text/x-python",
   "name": "python",
   "nbconvert_exporter": "python",
   "pygments_lexer": "ipython3",
   "version": "3.7.3"
  }
 },
 "nbformat": 4,
 "nbformat_minor": 4
}
